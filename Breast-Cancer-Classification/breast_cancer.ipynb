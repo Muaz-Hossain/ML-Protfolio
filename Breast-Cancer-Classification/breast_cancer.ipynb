{
 "cells": [
  {
   "cell_type": "code",
   "execution_count": 26,
   "id": "8d9cf065-7274-489f-b667-b22ed8bf1cf2",
   "metadata": {},
   "outputs": [],
   "source": [
    "from sklearn.datasets import load_breast_cancer\n",
    "from sklearn.model_selection import train_test_split\n",
    "import numpy as np\n",
    "import pandas as pd"
   ]
  },
  {
   "cell_type": "code",
   "execution_count": 27,
   "id": "3fa0d167-aa5c-47c7-8c77-643e38c988b0",
   "metadata": {},
   "outputs": [
    {
     "name": "stdout",
     "output_type": "stream",
     "text": [
      "   mean radius  mean texture  mean perimeter  mean area  mean smoothness  \\\n",
      "0        17.99         10.38          122.80     1001.0          0.11840   \n",
      "1        20.57         17.77          132.90     1326.0          0.08474   \n",
      "2        19.69         21.25          130.00     1203.0          0.10960   \n",
      "3        11.42         20.38           77.58      386.1          0.14250   \n",
      "4        20.29         14.34          135.10     1297.0          0.10030   \n",
      "\n",
      "   mean compactness  mean concavity  mean concave points  mean symmetry  \\\n",
      "0           0.27760          0.3001              0.14710         0.2419   \n",
      "1           0.07864          0.0869              0.07017         0.1812   \n",
      "2           0.15990          0.1974              0.12790         0.2069   \n",
      "3           0.28390          0.2414              0.10520         0.2597   \n",
      "4           0.13280          0.1980              0.10430         0.1809   \n",
      "\n",
      "   mean fractal dimension  ...  worst texture  worst perimeter  worst area  \\\n",
      "0                 0.07871  ...          17.33           184.60      2019.0   \n",
      "1                 0.05667  ...          23.41           158.80      1956.0   \n",
      "2                 0.05999  ...          25.53           152.50      1709.0   \n",
      "3                 0.09744  ...          26.50            98.87       567.7   \n",
      "4                 0.05883  ...          16.67           152.20      1575.0   \n",
      "\n",
      "   worst smoothness  worst compactness  worst concavity  worst concave points  \\\n",
      "0            0.1622             0.6656           0.7119                0.2654   \n",
      "1            0.1238             0.1866           0.2416                0.1860   \n",
      "2            0.1444             0.4245           0.4504                0.2430   \n",
      "3            0.2098             0.8663           0.6869                0.2575   \n",
      "4            0.1374             0.2050           0.4000                0.1625   \n",
      "\n",
      "   worst symmetry  worst fractal dimension  target  \n",
      "0          0.4601                  0.11890       0  \n",
      "1          0.2750                  0.08902       0  \n",
      "2          0.3613                  0.08758       0  \n",
      "3          0.6638                  0.17300       0  \n",
      "4          0.2364                  0.07678       0  \n",
      "\n",
      "[5 rows x 31 columns]\n",
      "(569, 31)\n"
     ]
    }
   ],
   "source": [
    "data = load_breast_cancer()\n",
    "df = pd.DataFrame(data.data, columns = data.feature_names)\n",
    "df['target'] = data.target\n",
    "print(df.head())\n",
    "print(df.shape)"
   ]
  },
  {
   "cell_type": "code",
   "execution_count": 28,
   "id": "3992eb69-ade8-495b-8b4c-fe176a98a5a5",
   "metadata": {},
   "outputs": [],
   "source": [
    "#load data from sklearn\n",
    "data = load_breast_cancer()\n",
    "x = data.data\n",
    "y = data.target.reshape(-1, 1)"
   ]
  },
  {
   "cell_type": "code",
   "execution_count": 29,
   "id": "99773ffd-84fe-48c5-aa9f-b29ebbd8d35e",
   "metadata": {},
   "outputs": [],
   "source": [
    "# feature standarize\n",
    "x = (x -np.mean(x, axis=0))/np.std(x, axis =0)"
   ]
  },
  {
   "cell_type": "code",
   "execution_count": 30,
   "id": "8a6212e8-7744-4404-a6ef-81718505df01",
   "metadata": {},
   "outputs": [],
   "source": [
    "# split train and test data\n",
    "x_train,x_test, y_train, y_test = train_test_split(x,y, test_size = 0.3, random_state=42)"
   ]
  },
  {
   "cell_type": "code",
   "execution_count": 31,
   "id": "3bf9808d-89ab-4b32-ada8-7847923e3450",
   "metadata": {},
   "outputs": [],
   "source": [
    "# initialize weight\n",
    "def in_weight(n_feature):\n",
    "    w = np.zeros((n_feature, 1))\n",
    "    b = 0\n",
    "    return w, b\n",
    "                 "
   ]
  },
  {
   "cell_type": "code",
   "execution_count": 32,
   "id": "506133b1-6960-4279-b1b8-490be357562d",
   "metadata": {},
   "outputs": [],
   "source": [
    "# sigmoid function ( z = 1/1+e^-z)\n",
    "def sigmoid(z):\n",
    "    return 1/ (1 + np.exp(-z))"
   ]
  },
  {
   "cell_type": "code",
   "execution_count": 33,
   "id": "ffa6926c-5f7f-4690-a971-f996cdf72ab6",
   "metadata": {},
   "outputs": [
    {
     "name": "stdout",
     "output_type": "stream",
     "text": [
      "[[0.5       ]\n",
      " [0.88079708]\n",
      " [0.11920292]]\n"
     ]
    }
   ],
   "source": [
    "z = np.array([[0], [2], [-2]])\n",
    "print(sigmoid(z))"
   ]
  },
  {
   "cell_type": "code",
   "execution_count": 34,
   "id": "28f7e065-ce6a-4580-815d-f7f0d3c05738",
   "metadata": {},
   "outputs": [],
   "source": [
    "#forward propagation\n",
    "def fw_propagation(x,w,b):\n",
    "    z = np.dot(x, w) + b\n",
    "    y_pred = sigmoid(z)\n",
    "    return y_pred"
   ]
  },
  {
   "cell_type": "code",
   "execution_count": 35,
   "id": "54a5aabc-35fc-4b27-825c-44d29ffac991",
   "metadata": {},
   "outputs": [
    {
     "name": "stdout",
     "output_type": "stream",
     "text": [
      "prediction (first 5)\n",
      "[[0.5]\n",
      " [0.5]\n",
      " [0.5]\n",
      " [0.5]\n",
      " [0.5]]\n"
     ]
    }
   ],
   "source": [
    "w,b = in_weight(x_train.shape[1])\n",
    "y_pred = fw_propagation(x_train,w,b)\n",
    "print(\"prediction (first 5)\")\n",
    "print(y_pred[:5])"
   ]
  },
  {
   "cell_type": "code",
   "execution_count": 36,
   "id": "011a96f7-6f2a-4e99-b421-f0e487a5e72d",
   "metadata": {},
   "outputs": [],
   "source": [
    "# Binary cross entropy\n",
    "def cost_function(y, y_pred):\n",
    "    m = y.shape[0]\n",
    "    cost = -(1/m)*np.sum(y* np.log(y_pred + 1e-8) + (1-y)*np.log(1-y_pred + 1e-8))\n",
    "    return cost"
   ]
  },
  {
   "cell_type": "code",
   "execution_count": 37,
   "id": "4c100fcb-1590-4304-91b6-bf40c8af5971",
   "metadata": {},
   "outputs": [
    {
     "name": "stdout",
     "output_type": "stream",
     "text": [
      "0.6931471605599453\n"
     ]
    }
   ],
   "source": [
    "cost = cost_function(y_train, y_pred)\n",
    "print(cost)"
   ]
  },
  {
   "cell_type": "code",
   "execution_count": 38,
   "id": "d2805d33-c411-46a2-9d4e-ab9e5c357818",
   "metadata": {},
   "outputs": [],
   "source": [
    "# gradiant calculation \n",
    "def backward_propagation(x, y, y_pred):\n",
    "    m = x.shape[0]\n",
    "    dz = y_pred - y\n",
    "    dw = (1/m)*np.dot(x.T,dz)\n",
    "    db = (1/m)*np.sum(dz)\n",
    "    return dw,db"
   ]
  },
  {
   "cell_type": "code",
   "execution_count": 39,
   "id": "84dd09c9-102e-47ff-97f5-dd6c63afea84",
   "metadata": {},
   "outputs": [
    {
     "name": "stdout",
     "output_type": "stream",
     "text": [
      "[[0.34430305]\n",
      " [0.19631409]\n",
      " [0.34992127]\n",
      " [0.33771185]\n",
      " [0.17269225]]\n",
      "-0.12562814070351758\n"
     ]
    }
   ],
   "source": [
    "dw,db = backward_propagation(x_train,y_train, y_pred)\n",
    "print (dw[:5])\n",
    "print(db)"
   ]
  },
  {
   "cell_type": "code",
   "execution_count": 40,
   "id": "216d104c-4c88-40d0-a7c8-14e835f3c44a",
   "metadata": {},
   "outputs": [],
   "source": [
    "# update weights and bias using gradiant descent\n",
    "def update(w,b,dw,db,alpha):\n",
    "    alpha = 0.01\n",
    "    w = w - alpha*dw\n",
    "    b = b - alpha*db\n",
    "    return w, b"
   ]
  },
  {
   "cell_type": "code",
   "execution_count": 41,
   "id": "e9ee4587-151a-4476-a675-d0b2d61c3cf0",
   "metadata": {},
   "outputs": [
    {
     "name": "stdout",
     "output_type": "stream",
     "text": [
      "[[-0.00344303]\n",
      " [-0.00196314]\n",
      " [-0.00349921]\n",
      " [-0.00337712]\n",
      " [-0.00172692]]\n",
      "0.001256281407035176\n"
     ]
    }
   ],
   "source": [
    "alpha = 0.01\n",
    "w ,b = update(w,b,dw,db,alpha)\n",
    "print(w[:5])\n",
    "print(b)"
   ]
  },
  {
   "cell_type": "code",
   "execution_count": 42,
   "id": "f7c1b612-6d8c-4dee-8828-629967245a9e",
   "metadata": {},
   "outputs": [],
   "source": [
    "# traning the model\n",
    "def train(x, y, epochs, alpha):\n",
    "    w,b = in_weight(x.shape[1])\n",
    "    for i in range(epochs):\n",
    "        y_pred = fw_propagation(x, w, b)\n",
    "        cost = cost_function(y, y_pred)\n",
    "        dw, db = backward_propagation(x, y, y_pred)\n",
    "        w, b = update(w,b,dw,db,alpha)\n",
    "        if i == 0:\n",
    "            print(f\"epoch{i} - cost: {cost :.4f}\")\n",
    "            return w, b"
   ]
  },
  {
   "cell_type": "code",
   "execution_count": 43,
   "id": "28240e62-4cc0-4c44-88d4-39a849d11607",
   "metadata": {},
   "outputs": [
    {
     "name": "stdout",
     "output_type": "stream",
     "text": [
      "epoch0 - cost: 0.6931\n"
     ]
    }
   ],
   "source": [
    "w, b = train(x_train, y_train, epochs=1000,alpha=0.01)"
   ]
  },
  {
   "cell_type": "code",
   "execution_count": 44,
   "id": "63e05a02-ad4f-48a7-abf8-84f87d4309f2",
   "metadata": {},
   "outputs": [],
   "source": [
    "# predict function \n",
    "def predict(x, w, b):\n",
    "    y_pred = sigmoid(np.dot(x, w)+b)\n",
    "    return y_pred >= 0.5\n"
   ]
  },
  {
   "cell_type": "code",
   "execution_count": 45,
   "id": "0b65829c-27fd-458c-8522-264c9a66e5c7",
   "metadata": {},
   "outputs": [],
   "source": [
    "# accuracy score\n",
    "def accuracy(y_true, y_pred):\n",
    "    y_pred = y_pred.astype(int)\n",
    "    return np.mean(y_true == y_pred)"
   ]
  },
  {
   "cell_type": "code",
   "execution_count": 47,
   "id": "8d427634-0ee8-40be-a1fd-e7987e4f2c38",
   "metadata": {},
   "outputs": [
    {
     "name": "stdout",
     "output_type": "stream",
     "text": [
      "test accuracy :93.57%\n"
     ]
    }
   ],
   "source": [
    "# run test data\n",
    "y_test_pred=predict(x_test, w, b)\n",
    "test_acc = accuracy(y_test, y_test_pred)\n",
    "print(f\"test accuracy :{test_acc * 100:.2f}%\")"
   ]
  },
  {
   "cell_type": "code",
   "execution_count": null,
   "id": "aa4e2fe9-27ec-477a-95a5-e0c6d6ee4bb4",
   "metadata": {},
   "outputs": [],
   "source": []
  }
 ],
 "metadata": {
  "kernelspec": {
   "display_name": "Python 3 (ipykernel)",
   "language": "python",
   "name": "python3"
  },
  "language_info": {
   "codemirror_mode": {
    "name": "ipython",
    "version": 3
   },
   "file_extension": ".py",
   "mimetype": "text/x-python",
   "name": "python",
   "nbconvert_exporter": "python",
   "pygments_lexer": "ipython3",
   "version": "3.13.2"
  }
 },
 "nbformat": 4,
 "nbformat_minor": 5
}
